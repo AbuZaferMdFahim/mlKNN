{
 "cells": [
  {
   "cell_type": "code",
   "execution_count": 3,
   "id": "c448730f",
   "metadata": {},
   "outputs": [
    {
     "name": "stdout",
     "output_type": "stream",
     "text": [
      "sepal.length, sepal.width, petal.length, petal.width, variety\n",
      "5.1, 3.5, 1.4, .2, Setosa\n",
      "4.9, 3, 1.4, .2, Setosa\n",
      "4.7, 3.2, 1.3, .2, Setosa\n",
      "4.6, 3.1, 1.5, .2, Setosa\n",
      "5, 3.6, 1.4, .2, Setosa\n",
      "5.4, 3.9, 1.7, .4, Setosa\n",
      "4.6, 3.4, 1.4, .3, Setosa\n",
      "5, 3.4, 1.5, .2, Setosa\n",
      "4.4, 2.9, 1.4, .2, Setosa\n",
      "4.9, 3.1, 1.5, .1, Setosa\n",
      "5.4, 3.7, 1.5, .2, Setosa\n",
      "4.8, 3.4, 1.6, .2, Setosa\n",
      "4.8, 3, 1.4, .1, Setosa\n",
      "4.3, 3, 1.1, .1, Setosa\n",
      "5.8, 4, 1.2, .2, Setosa\n",
      "5.7, 4.4, 1.5, .4, Setosa\n",
      "5.4, 3.9, 1.3, .4, Setosa\n",
      "5.1, 3.5, 1.4, .3, Setosa\n",
      "5.7, 3.8, 1.7, .3, Setosa\n",
      "5.1, 3.8, 1.5, .3, Setosa\n",
      "5.4, 3.4, 1.7, .2, Setosa\n",
      "5.1, 3.7, 1.5, .4, Setosa\n",
      "4.6, 3.6, 1, .2, Setosa\n",
      "5.1, 3.3, 1.7, .5, Setosa\n",
      "4.8, 3.4, 1.9, .2, Setosa\n",
      "5, 3, 1.6, .2, Setosa\n",
      "5, 3.4, 1.6, .4, Setosa\n",
      "5.2, 3.5, 1.5, .2, Setosa\n",
      "5.2, 3.4, 1.4, .2, Setosa\n",
      "4.7, 3.2, 1.6, .2, Setosa\n",
      "4.8, 3.1, 1.6, .2, Setosa\n",
      "5.4, 3.4, 1.5, .4, Setosa\n",
      "5.2, 4.1, 1.5, .1, Setosa\n",
      "5.5, 4.2, 1.4, .2, Setosa\n",
      "4.9, 3.1, 1.5, .2, Setosa\n",
      "5, 3.2, 1.2, .2, Setosa\n",
      "5.5, 3.5, 1.3, .2, Setosa\n",
      "4.9, 3.6, 1.4, .1, Setosa\n",
      "4.4, 3, 1.3, .2, Setosa\n",
      "5.1, 3.4, 1.5, .2, Setosa\n",
      "5, 3.5, 1.3, .3, Setosa\n",
      "4.5, 2.3, 1.3, .3, Setosa\n",
      "4.4, 3.2, 1.3, .2, Setosa\n",
      "5, 3.5, 1.6, .6, Setosa\n",
      "5.1, 3.8, 1.9, .4, Setosa\n",
      "4.8, 3, 1.4, .3, Setosa\n",
      "5.1, 3.8, 1.6, .2, Setosa\n",
      "4.6, 3.2, 1.4, .2, Setosa\n",
      "5.3, 3.7, 1.5, .2, Setosa\n",
      "5, 3.3, 1.4, .2, Setosa\n",
      "7, 3.2, 4.7, 1.4, Versicolor\n",
      "6.4, 3.2, 4.5, 1.5, Versicolor\n",
      "6.9, 3.1, 4.9, 1.5, Versicolor\n",
      "5.5, 2.3, 4, 1.3, Versicolor\n",
      "6.5, 2.8, 4.6, 1.5, Versicolor\n",
      "5.7, 2.8, 4.5, 1.3, Versicolor\n",
      "6.3, 3.3, 4.7, 1.6, Versicolor\n",
      "4.9, 2.4, 3.3, 1, Versicolor\n",
      "6.6, 2.9, 4.6, 1.3, Versicolor\n",
      "5.2, 2.7, 3.9, 1.4, Versicolor\n",
      "5, 2, 3.5, 1, Versicolor\n",
      "5.9, 3, 4.2, 1.5, Versicolor\n",
      "6, 2.2, 4, 1, Versicolor\n",
      "6.1, 2.9, 4.7, 1.4, Versicolor\n",
      "5.6, 2.9, 3.6, 1.3, Versicolor\n",
      "6.7, 3.1, 4.4, 1.4, Versicolor\n",
      "5.6, 3, 4.5, 1.5, Versicolor\n",
      "5.8, 2.7, 4.1, 1, Versicolor\n",
      "6.2, 2.2, 4.5, 1.5, Versicolor\n",
      "5.6, 2.5, 3.9, 1.1, Versicolor\n",
      "5.9, 3.2, 4.8, 1.8, Versicolor\n",
      "6.1, 2.8, 4, 1.3, Versicolor\n",
      "6.3, 2.5, 4.9, 1.5, Versicolor\n",
      "6.1, 2.8, 4.7, 1.2, Versicolor\n",
      "6.4, 2.9, 4.3, 1.3, Versicolor\n",
      "6.6, 3, 4.4, 1.4, Versicolor\n",
      "6.8, 2.8, 4.8, 1.4, Versicolor\n",
      "6.7, 3, 5, 1.7, Versicolor\n",
      "6, 2.9, 4.5, 1.5, Versicolor\n",
      "5.7, 2.6, 3.5, 1, Versicolor\n",
      "5.5, 2.4, 3.8, 1.1, Versicolor\n",
      "5.5, 2.4, 3.7, 1, Versicolor\n",
      "5.8, 2.7, 3.9, 1.2, Versicolor\n",
      "6, 2.7, 5.1, 1.6, Versicolor\n",
      "5.4, 3, 4.5, 1.5, Versicolor\n",
      "6, 3.4, 4.5, 1.6, Versicolor\n",
      "6.7, 3.1, 4.7, 1.5, Versicolor\n",
      "6.3, 2.3, 4.4, 1.3, Versicolor\n",
      "5.6, 3, 4.1, 1.3, Versicolor\n",
      "5.5, 2.5, 4, 1.3, Versicolor\n",
      "5.5, 2.6, 4.4, 1.2, Versicolor\n",
      "6.1, 3, 4.6, 1.4, Versicolor\n",
      "5.8, 2.6, 4, 1.2, Versicolor\n",
      "5, 2.3, 3.3, 1, Versicolor\n",
      "5.6, 2.7, 4.2, 1.3, Versicolor\n",
      "5.7, 3, 4.2, 1.2, Versicolor\n",
      "5.7, 2.9, 4.2, 1.3, Versicolor\n",
      "6.2, 2.9, 4.3, 1.3, Versicolor\n",
      "5.1, 2.5, 3, 1.1, Versicolor\n",
      "5.7, 2.8, 4.1, 1.3, Versicolor\n",
      "6.3, 3.3, 6, 2.5, Virginica\n",
      "5.8, 2.7, 5.1, 1.9, Virginica\n",
      "7.1, 3, 5.9, 2.1, Virginica\n",
      "6.3, 2.9, 5.6, 1.8, Virginica\n",
      "6.5, 3, 5.8, 2.2, Virginica\n",
      "7.6, 3, 6.6, 2.1, Virginica\n",
      "4.9, 2.5, 4.5, 1.7, Virginica\n",
      "7.3, 2.9, 6.3, 1.8, Virginica\n",
      "6.7, 2.5, 5.8, 1.8, Virginica\n",
      "7.2, 3.6, 6.1, 2.5, Virginica\n",
      "6.5, 3.2, 5.1, 2, Virginica\n",
      "6.4, 2.7, 5.3, 1.9, Virginica\n",
      "6.8, 3, 5.5, 2.1, Virginica\n",
      "5.7, 2.5, 5, 2, Virginica\n",
      "5.8, 2.8, 5.1, 2.4, Virginica\n",
      "6.4, 3.2, 5.3, 2.3, Virginica\n",
      "6.5, 3, 5.5, 1.8, Virginica\n",
      "7.7, 3.8, 6.7, 2.2, Virginica\n",
      "7.7, 2.6, 6.9, 2.3, Virginica\n",
      "6, 2.2, 5, 1.5, Virginica\n",
      "6.9, 3.2, 5.7, 2.3, Virginica\n",
      "5.6, 2.8, 4.9, 2, Virginica\n",
      "7.7, 2.8, 6.7, 2, Virginica\n",
      "6.3, 2.7, 4.9, 1.8, Virginica\n",
      "6.7, 3.3, 5.7, 2.1, Virginica\n",
      "7.2, 3.2, 6, 1.8, Virginica\n",
      "6.2, 2.8, 4.8, 1.8, Virginica\n",
      "6.1, 3, 4.9, 1.8, Virginica\n",
      "6.4, 2.8, 5.6, 2.1, Virginica\n",
      "7.2, 3, 5.8, 1.6, Virginica\n",
      "7.4, 2.8, 6.1, 1.9, Virginica\n",
      "7.9, 3.8, 6.4, 2, Virginica\n",
      "6.4, 2.8, 5.6, 2.2, Virginica\n",
      "6.3, 2.8, 5.1, 1.5, Virginica\n",
      "6.1, 2.6, 5.6, 1.4, Virginica\n",
      "7.7, 3, 6.1, 2.3, Virginica\n",
      "6.3, 3.4, 5.6, 2.4, Virginica\n",
      "6.4, 3.1, 5.5, 1.8, Virginica\n",
      "6, 3, 4.8, 1.8, Virginica\n",
      "6.9, 3.1, 5.4, 2.1, Virginica\n",
      "6.7, 3.1, 5.6, 2.4, Virginica\n",
      "6.9, 3.1, 5.1, 2.3, Virginica\n",
      "5.8, 2.7, 5.1, 1.9, Virginica\n",
      "6.8, 3.2, 5.9, 2.3, Virginica\n",
      "6.7, 3.3, 5.7, 2.5, Virginica\n",
      "6.7, 3, 5.2, 2.3, Virginica\n",
      "6.3, 2.5, 5, 1.9, Virginica\n",
      "6.5, 3, 5.2, 2, Virginica\n",
      "6.2, 3.4, 5.4, 2.3, Virginica\n",
      "5.9, 3, 5.1, 1.8, Virginica\n"
     ]
    }
   ],
   "source": [
    "import csv\n",
    "with open('Desktop/iris.csv','r') as csvfile:\n",
    "    lines = csv.reader(csvfile)\n",
    "    for row in lines:\n",
    "        print (', '.join(row))"
   ]
  },
  {
   "cell_type": "code",
   "execution_count": 48,
   "id": "4f32a1f3",
   "metadata": {},
   "outputs": [],
   "source": [
    "import csv\n",
    "import random\n",
    "def loadDataset(filename,split, trainingSet=[],testSet=[]):\n",
    "    with open(filename,'r') as csvfile:\n",
    "        lines=csv.reader(csvfile)\n",
    "        dataset = list(lines)\n",
    "        for x in range(1,len(dataset)):\n",
    "            for y in range(4):\n",
    "                dataset[x][y] = float(dataset[x][y])\n",
    "            if random.random() < split:\n",
    "                trainingSet.append(dataset[x])\n",
    "            else:\n",
    "                testSet.append(dataset[x])\n"
   ]
  },
  {
   "cell_type": "code",
   "execution_count": 49,
   "id": "167b0b6b",
   "metadata": {},
   "outputs": [
    {
     "name": "stdout",
     "output_type": "stream",
     "text": [
      "Train: 92\n",
      "Test: 58\n"
     ]
    }
   ],
   "source": [
    "trainingSet=[]\n",
    "testSet=[]\n",
    "loadDataset(r'Desktop/iris.csv.',0.66,trainingSet,testSet)\n",
    "print('Train: '+repr(len(trainingSet)))\n",
    "print('Test: '+repr(len(testSet)))"
   ]
  },
  {
   "cell_type": "code",
   "execution_count": 50,
   "id": "dbd46d14",
   "metadata": {},
   "outputs": [],
   "source": [
    "import math\n",
    "def euclideanDistance(instance1,instance2,length):\n",
    "    distance=0\n",
    "    for x in range(length):\n",
    "        distance+=pow((instance1[x]-instance2[x]),2)\n",
    "    return math.sqrt(distance)"
   ]
  },
  {
   "cell_type": "code",
   "execution_count": 52,
   "id": "b6a6bc78",
   "metadata": {},
   "outputs": [
    {
     "name": "stdout",
     "output_type": "stream",
     "text": [
      "Distance: 3.4641016151377544\n"
     ]
    }
   ],
   "source": [
    "data1=[2,2,2,'a']\n",
    "data2=[4,4,4,'b']\n",
    "distance = euclideanDistance(data1,data2,3)\n",
    "print ('Distance: ' +repr(distance))"
   ]
  },
  {
   "cell_type": "code",
   "execution_count": 55,
   "id": "08fe68a2",
   "metadata": {},
   "outputs": [],
   "source": [
    "import operator\n",
    "def getNeighbors(trainingSet,testInstance,k):\n",
    "    distances=[]\n",
    "    length = len(testInstance)-1\n",
    "    for x in range (len(trainingSet)):\n",
    "        dist = euclideanDistance(testInstance,trainingSet[x],length)\n",
    "        distances.append((trainingSet[x],dist))\n",
    "    distances.sort(key=operator.itemgetter(1))\n",
    "    neighbors=[]\n",
    "    for x in range(k):\n",
    "        neighbors.append(distances[x][0])\n",
    "    return neighbors\n",
    "        \n"
   ]
  },
  {
   "cell_type": "code",
   "execution_count": 56,
   "id": "e594b0b6",
   "metadata": {},
   "outputs": [
    {
     "name": "stdout",
     "output_type": "stream",
     "text": [
      "[[4, 4, 4, 'b']]\n"
     ]
    }
   ],
   "source": [
    "trainSet=[[2,2,2,'a'],[4,4,4,'b']]\n",
    "testinstance =[5,5,5]\n",
    "k=1\n",
    "neighbors =getNeighbors(trainSet,testinstance,k)\n",
    "print(neighbors)"
   ]
  },
  {
   "cell_type": "code",
   "execution_count": 65,
   "id": "e2fbf694",
   "metadata": {},
   "outputs": [],
   "source": [
    "import operator\n",
    "def getResponse(neighbors):\n",
    "    classVotes={}\n",
    "    for x in range(len(neighbors)):\n",
    "        response=neighbors[x][-1]\n",
    "        if response in classVotes:\n",
    "            classVotes[response] +=1\n",
    "        else:\n",
    "            classVotes[response] = 1\n",
    "    sortedVotes = sorted(classVotes.items(),key=operator.itemgetter(1),reverse=True)\n",
    "    return sortedVotes[0][0]"
   ]
  },
  {
   "cell_type": "code",
   "execution_count": 66,
   "id": "a1c08e54",
   "metadata": {},
   "outputs": [
    {
     "name": "stdout",
     "output_type": "stream",
     "text": [
      "a\n"
     ]
    }
   ],
   "source": [
    "neighbors=[[1,1,1,'a'],[2,2,2,'a'],[3,3,3,'b']]\n",
    "response=getResponse(neighbors)\n",
    "print(response)"
   ]
  },
  {
   "cell_type": "code",
   "execution_count": 67,
   "id": "04dbfb5d",
   "metadata": {},
   "outputs": [],
   "source": [
    "def getAccuracy(testSet,predictions):\n",
    "    correct=0\n",
    "    for x in range(len(testSet)):\n",
    "        if testSet[x][-1] is predictions[x]:\n",
    "            correct+=1\n",
    "    return (correct/float(len(testSet))) * 100"
   ]
  },
  {
   "cell_type": "code",
   "execution_count": 68,
   "id": "16488fa3",
   "metadata": {},
   "outputs": [
    {
     "name": "stdout",
     "output_type": "stream",
     "text": [
      "66.66666666666666\n"
     ]
    }
   ],
   "source": [
    "testset=[[1,1,1,'a'],[2,2,2,'a'],[3,3,3,'b']]\n",
    "predictions=['a','a','a']\n",
    "accuracy=getAccuracy(testset,predictions)\n",
    "print(accuracy)"
   ]
  },
  {
   "cell_type": "code",
   "execution_count": 73,
   "id": "7119991e",
   "metadata": {},
   "outputs": [
    {
     "name": "stdout",
     "output_type": "stream",
     "text": [
      "Train: 89\n",
      "Test: 61\n",
      "> predicted='Setosa', actual='Setosa'\n",
      "> predicted='Setosa', actual='Setosa'\n",
      "> predicted='Setosa', actual='Setosa'\n",
      "> predicted='Setosa', actual='Setosa'\n",
      "> predicted='Setosa', actual='Setosa'\n",
      "> predicted='Setosa', actual='Setosa'\n",
      "> predicted='Setosa', actual='Setosa'\n",
      "> predicted='Setosa', actual='Setosa'\n",
      "> predicted='Setosa', actual='Setosa'\n",
      "> predicted='Setosa', actual='Setosa'\n",
      "> predicted='Setosa', actual='Setosa'\n",
      "> predicted='Setosa', actual='Setosa'\n",
      "> predicted='Setosa', actual='Setosa'\n",
      "> predicted='Setosa', actual='Setosa'\n",
      "> predicted='Setosa', actual='Setosa'\n",
      "> predicted='Setosa', actual='Setosa'\n",
      "> predicted='Setosa', actual='Setosa'\n",
      "> predicted='Setosa', actual='Setosa'\n",
      "> predicted='Setosa', actual='Setosa'\n",
      "> predicted='Setosa', actual='Setosa'\n",
      "> predicted='Setosa', actual='Setosa'\n",
      "> predicted='Setosa', actual='Setosa'\n",
      "> predicted='Setosa', actual='Setosa'\n",
      "> predicted='Setosa', actual='Setosa'\n",
      "> predicted='Versicolor', actual='Versicolor'\n",
      "> predicted='Versicolor', actual='Versicolor'\n",
      "> predicted='Versicolor', actual='Versicolor'\n",
      "> predicted='Versicolor', actual='Versicolor'\n",
      "> predicted='Versicolor', actual='Versicolor'\n",
      "> predicted='Versicolor', actual='Versicolor'\n",
      "> predicted='Versicolor', actual='Versicolor'\n",
      "> predicted='Versicolor', actual='Versicolor'\n",
      "> predicted='Versicolor', actual='Versicolor'\n",
      "> predicted='Versicolor', actual='Versicolor'\n",
      "> predicted='Versicolor', actual='Versicolor'\n",
      "> predicted='Versicolor', actual='Versicolor'\n",
      "> predicted='Versicolor', actual='Versicolor'\n",
      "> predicted='Versicolor', actual='Versicolor'\n",
      "> predicted='Virginica', actual='Virginica'\n",
      "> predicted='Virginica', actual='Virginica'\n",
      "> predicted='Virginica', actual='Virginica'\n",
      "> predicted='Virginica', actual='Virginica'\n",
      "> predicted='Versicolor', actual='Virginica'\n",
      "> predicted='Virginica', actual='Virginica'\n",
      "> predicted='Virginica', actual='Virginica'\n",
      "> predicted='Virginica', actual='Virginica'\n",
      "> predicted='Versicolor', actual='Virginica'\n",
      "> predicted='Virginica', actual='Virginica'\n",
      "> predicted='Virginica', actual='Virginica'\n",
      "> predicted='Virginica', actual='Virginica'\n",
      "> predicted='Virginica', actual='Virginica'\n",
      "> predicted='Virginica', actual='Virginica'\n",
      "> predicted='Virginica', actual='Virginica'\n",
      "> predicted='Versicolor', actual='Virginica'\n",
      "> predicted='Virginica', actual='Virginica'\n",
      "> predicted='Virginica', actual='Virginica'\n",
      "> predicted='Virginica', actual='Virginica'\n",
      "> predicted='Virginica', actual='Virginica'\n",
      "> predicted='Virginica', actual='Virginica'\n",
      "> predicted='Virginica', actual='Virginica'\n",
      "> predicted='Virginica', actual='Virginica'\n",
      "Accuracy: 95.08196721311475%\n"
     ]
    }
   ],
   "source": [
    "def main():\n",
    "    # prepare data\n",
    "    trainingSet=[]\n",
    "    testSet=[]\n",
    "    split=0.67\n",
    "    loadDataset('desktop/iris.csv',split,trainingSet,testSet)\n",
    "    print('Train: '+repr(len(trainingSet)))\n",
    "    print('Test: '+repr(len(testSet)))\n",
    "    \n",
    "    #generate Predictions\n",
    "    predictions=[]\n",
    "    k=3\n",
    "    for x in range(len(testSet)):\n",
    "        neighbors=getNeighbors(trainingSet,testSet[x],k)\n",
    "        result=getResponse(neighbors)\n",
    "        predictions.append(result)\n",
    "        print('> predicted=' +repr(result) + ', actual='+repr(testSet[x][-1]))\n",
    "    accuracy = getAccuracy(testSet,predictions)\n",
    "    print('Accuracy: ' +repr(accuracy) + '%')\n",
    "  \n",
    "main()"
   ]
  },
  {
   "cell_type": "code",
   "execution_count": null,
   "id": "2bdd6552",
   "metadata": {},
   "outputs": [],
   "source": []
  }
 ],
 "metadata": {
  "kernelspec": {
   "display_name": "Python 3 (ipykernel)",
   "language": "python",
   "name": "python3"
  },
  "language_info": {
   "codemirror_mode": {
    "name": "ipython",
    "version": 3
   },
   "file_extension": ".py",
   "mimetype": "text/x-python",
   "name": "python",
   "nbconvert_exporter": "python",
   "pygments_lexer": "ipython3",
   "version": "3.11.5"
  }
 },
 "nbformat": 4,
 "nbformat_minor": 5
}
